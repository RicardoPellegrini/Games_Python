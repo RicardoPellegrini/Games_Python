{
 "cells": [
  {
   "cell_type": "markdown",
   "metadata": {},
   "source": [
    "# Jogo da forca em Python"
   ]
  },
  {
   "cell_type": "markdown",
   "metadata": {},
   "source": [
    "Esse jogo da forca foi criado utilizando condicionais e loops, além da biblioteca random."
   ]
  },
  {
   "cell_type": "markdown",
   "metadata": {},
   "source": [
    "### Preparando os dados de entrada"
   ]
  },
  {
   "cell_type": "code",
   "execution_count": 1,
   "metadata": {},
   "outputs": [],
   "source": [
    "# Importando biblioteca\n",
    "import random"
   ]
  },
  {
   "cell_type": "code",
   "execution_count": 2,
   "metadata": {},
   "outputs": [],
   "source": [
    "# Lista com possíveis palavras para o jogo\n",
    "palavra = ['AMARELO', 'AMOR', 'AVE', 'CANECA', 'CELULAR', 'CLUBE',\n",
    "           'COPO', 'DOCE', 'ELEFANTE', 'ESCOLA', 'FOTO', 'GARFO',\n",
    "           'GELEIA', 'GIRAFA', 'JANELA', 'LIMONADA', 'PAI', 'PARQUE', 'PASSARINHO']\n",
    "\n",
    "# Obs: podemos também coletar essas palavras de um arquivo, transformando em lista e trabalhando da mesma forma."
   ]
  },
  {
   "cell_type": "code",
   "execution_count": 3,
   "metadata": {},
   "outputs": [],
   "source": [
    "# Garantindo que todas as palavras da lista estejam em maiúsculas\n",
    "palavra = [palavra.upper() for palavra in palavra]"
   ]
  },
  {
   "cell_type": "markdown",
   "metadata": {},
   "source": [
    "### Estrutura final do Jogo da Forca"
   ]
  },
  {
   "cell_type": "code",
   "execution_count": 4,
   "metadata": {},
   "outputs": [
    {
     "name": "stdout",
     "output_type": "stream",
     "text": [
      "-----------------------------------\n",
      "OLÁ, SEJA BEM-VINDO AO JOGO DA FORCA!\n",
      "-----------------------------------\n",
      "_ _ _ _ _ _ \n",
      "\n",
      "Letras já escolhidas: []\n",
      "Digite uma letra: a\n",
      "_ _ _ A _ A \n",
      "\n",
      "Letras já escolhidas: ['A']\n",
      "Digite uma letra: t\n",
      "Essa letra não consta na palavra\n",
      "Vidas restantes: 5\n",
      "_ _ _ A _ A \n",
      "\n",
      "Letras já escolhidas: ['A', 'T']\n",
      "Digite uma letra: b\n",
      "Essa letra não consta na palavra\n",
      "Vidas restantes: 4\n",
      "_ _ _ A _ A \n",
      "\n",
      "Letras já escolhidas: ['A', 'T', 'B']\n",
      "Digite uma letra: c\n",
      "Essa letra não consta na palavra\n",
      "Vidas restantes: 3\n",
      "_ _ _ A _ A \n",
      "\n",
      "Letras já escolhidas: ['A', 'T', 'B', 'C']\n",
      "Digite uma letra: r\n",
      "_ _ R A _ A \n",
      "\n",
      "Letras já escolhidas: ['A', 'T', 'B', 'C', 'R']\n",
      "Digite uma letra: i\n",
      "_ I R A _ A \n",
      "\n",
      "Letras já escolhidas: ['A', 'T', 'B', 'C', 'R', 'I']\n",
      "Digite uma letra: f\n",
      "_ I R A F A \n",
      "\n",
      "Letras já escolhidas: ['A', 'T', 'B', 'C', 'R', 'I', 'F']\n",
      "Digite uma letra: g\n",
      "G I R A F A \n",
      "\n",
      "Parabéns! Você venceu com 8 tentativas e ainda lhe restaram 3 vida(s)!\n",
      "Gostaria de jogar novamente? [S/N] s\n",
      "-----------------------------------\n",
      "OLÁ, SEJA BEM-VINDO AO JOGO DA FORCA!\n",
      "-----------------------------------\n",
      "_ _ _ _ \n",
      "\n",
      "Letras já escolhidas: []\n",
      "Digite uma letra: m\n",
      "Essa letra não consta na palavra\n",
      "Vidas restantes: 5\n",
      "_ _ _ _ \n",
      "\n",
      "Letras já escolhidas: ['M']\n",
      "Digite uma letra: a\n",
      "Essa letra não consta na palavra\n",
      "Vidas restantes: 4\n",
      "_ _ _ _ \n",
      "\n",
      "Letras já escolhidas: ['M', 'A']\n",
      "Digite uma letra: o\n",
      "_ O _ _ \n",
      "\n",
      "Letras já escolhidas: ['M', 'A', 'O']\n",
      "Digite uma letra: r\n",
      "Essa letra não consta na palavra\n",
      "Vidas restantes: 3\n",
      "_ O _ _ \n",
      "\n",
      "Letras já escolhidas: ['M', 'A', 'O', 'R']\n",
      "Digite uma letra: c\n",
      "_ O C _ \n",
      "\n",
      "Letras já escolhidas: ['M', 'A', 'O', 'R', 'C']\n",
      "Digite uma letra: b\n",
      "Essa letra não consta na palavra\n",
      "Vidas restantes: 2\n",
      "_ O C _ \n",
      "\n",
      "Letras já escolhidas: ['M', 'A', 'O', 'R', 'C', 'B']\n",
      "Digite uma letra: p\n",
      "Essa letra não consta na palavra\n",
      "Vidas restantes: 1\n",
      "_ O C _ \n",
      "\n",
      "Letras já escolhidas: ['M', 'A', 'O', 'R', 'C', 'B', 'P']\n",
      "Digite uma letra: a\n",
      "Essa letra já foi escolhida, digite outra: e\n",
      "_ O C E \n",
      "\n",
      "Letras já escolhidas: ['M', 'A', 'O', 'R', 'C', 'B', 'P', 'E']\n",
      "Digite uma letra: k\n",
      "Essa letra não consta na palavra\n",
      "Vidas restantes: 0\n",
      "_ O C E \n",
      "\n",
      "Você perdeu, amigo!\n",
      "A palavra correta era: DOCE\n",
      "Gostaria de jogar novamente? [S/N] n\n"
     ]
    }
   ],
   "source": [
    "# Estrutura do jogo\n",
    "while True:\n",
    "    # Criando um lista com uma palavra escolhida randomicamente\n",
    "    esc = random.choice(palavra)\n",
    "    x = list(esc)\n",
    "\n",
    "    # Demonstrando o tamanho da palavra a ser descoberta\n",
    "    forca = [' ' if letra == ' ' else '_' for letra in x]\n",
    "\n",
    "    # Variáveis para número de vidas e para letras já escolhidas\n",
    "    vidas = 6\n",
    "    letras_escolhidas = []\n",
    "\n",
    "    # Corpo do jogo\n",
    "    print('-'*35)\n",
    "    print('OLÁ, SEJA BEM-VINDO AO JOGO DA FORCA!')\n",
    "    print('-'*35)\n",
    "    for letra in forca:\n",
    "        print(letra, end=' ')\n",
    "    print('\\n')\n",
    "\n",
    "    while forca != x or vidas > 0:\n",
    "        print('Letras já escolhidas: {}'.format(letras_escolhidas))\n",
    "        y = input('Digite uma letra: ').upper()[0]\n",
    "        while True:\n",
    "            if y in letras_escolhidas:\n",
    "                y = input('Essa letra já foi escolhida, digite outra: ').upper()[0]\n",
    "            else:\n",
    "                letras_escolhidas.append(y)\n",
    "                break\n",
    "        for ind, value in enumerate(x):\n",
    "            if y == value:\n",
    "                forca[ind] = value\n",
    "        if y not in x:\n",
    "            vidas -= 1\n",
    "            print('Essa letra não consta na palavra')\n",
    "            print(f'Vidas restantes: {vidas}')\n",
    "        for l in forca:\n",
    "            print(l, end = ' ')\n",
    "        print('\\n')\n",
    "        if forca != x and vidas == 0:\n",
    "            print('Você perdeu, amigo!')\n",
    "            print(f'A palavra correta era: {esc}')\n",
    "            break\n",
    "        if forca == x and vidas > 0:\n",
    "            print(f'Parabéns! Você venceu com {len(letras_escolhidas)} tentativas e ainda lhe restaram {vidas} vida(s)!')\n",
    "            break\n",
    "    jogar = input('Gostaria de jogar novamente? [S/N] ').upper()[0]\n",
    "    if jogar == 'N':\n",
    "        break\n",
    "    if jogar != 'S' and jogar != 'N':\n",
    "        jogar = input('Gostaria de jogar novamente? Escolha entre [S/N] ').upper()[0]"
   ]
  }
 ],
 "metadata": {
  "kernelspec": {
   "display_name": "Python 3",
   "language": "python",
   "name": "python3"
  },
  "language_info": {
   "codemirror_mode": {
    "name": "ipython",
    "version": 3
   },
   "file_extension": ".py",
   "mimetype": "text/x-python",
   "name": "python",
   "nbconvert_exporter": "python",
   "pygments_lexer": "ipython3",
   "version": "3.6.5"
  }
 },
 "nbformat": 4,
 "nbformat_minor": 2
}
